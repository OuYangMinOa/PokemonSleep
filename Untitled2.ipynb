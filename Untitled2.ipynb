{
 "cells": [
  {
   "cell_type": "code",
   "execution_count": 172,
   "id": "0ff19bc8",
   "metadata": {},
   "outputs": [],
   "source": [
    "import random"
   ]
  },
  {
   "cell_type": "code",
   "execution_count": 338,
   "id": "89ddabe7",
   "metadata": {},
   "outputs": [],
   "source": [
    "def testHelp(inputData):\n",
    "    '''計算整隊幫忙的次數\n",
    "    Args:\n",
    "        inputData (__dict__): \n",
    "        {\n",
    "            \"selfSpeed\" : 奶媽的速度\n",
    "            \"teamSpeed\" : 團隊速度\n",
    "            \"initEnergy\": 初始能量\n",
    "            \"totalTime\" : 總時間 (s)\n",
    "            \"skillType\" : 技能\n",
    "        }\n",
    "\n",
    "    Returns:\n",
    "         (__dict__) :\n",
    "             {\n",
    "             \"selfHelpTime\" : 奶媽幫忙的次數,\n",
    "             \"TeamHelpTime\" : 團隊幫忙的次數,\n",
    "             \"TotalSkill\"   : 技能觸發的次數\n",
    "             }\n",
    "    '''\n",
    "    \n",
    "    selfSpeed   = inputData['selfSpeed']         ## 奶媽的幫忙速度\n",
    "    teamSpeed   = inputData['teamSpeed']         ## 團隊的幫忙速度\n",
    "    initEnergy  = inputData['initEnergy']        ## 初始能量\n",
    "    totalTime   = inputData['totalTime']         ## unit (s)\n",
    "    skillType   = inputData['skillType']         ## 技能\n",
    "    HelpProb    = inputData['HelpProb']          #  每次幫忙觸發技能的機率 (這裡假設為10%)\n",
    "    \n",
    "    checkEnergy = lambda x: x if (x<=100) else 100 # 如果超過100,就返回100\n",
    "    \n",
    "    if (isinstance(teamSpeed,int)):  ## 如果團隊的幫忙速度只給一個值,則默認整隊一樣\n",
    "        teamSpeed = [teamSpeed,]*4\n",
    "    \n",
    "    selfcountDown = 0      # 計時器\n",
    "    teamcountDown = [0,]*4 # 計時器\n",
    "    selfHelp      = 0\n",
    "    TeamHelp      = [0,]*4\n",
    "    selfEnergy    = initEnergy\n",
    "    TeamEnergy    = [initEnergy,]*4\n",
    "    \n",
    "    skillTime     = 0\n",
    "    \n",
    "    for dt in range(totalTime):\n",
    "        ## Team\n",
    "        for i in range(4):\n",
    "            teamcountDown[i] += 1 \n",
    "            thisSpeed         = teamSpeed[i] / (1 + checkEnergy(TeamEnergy[i])*1.5*0.01)  # 如果超過(幫忙速度加上活力值的加成)，就會幫忙\n",
    "            if (thisSpeed <= teamcountDown[i]):  \n",
    "                TeamHelp[i]     += 1\n",
    "                teamcountDown[i] = 0\n",
    "            TeamEnergy[i] -= 1/600\n",
    "            \n",
    "        ## self\n",
    "        selfcountDown += 1\n",
    "        thisSpeed      = selfSpeed / (1 + checkEnergy(selfEnergy)*1.5*0.01)\n",
    "        if (thisSpeed <= selfcountDown):\n",
    "            selfHelp     += 1\n",
    "            selfcountDown = 0\n",
    "            \n",
    "            if (random.random()<= HelpProb):            # 觸發技能\n",
    "                skillTime    += 1\n",
    "                \n",
    "                if (skillType == \"EnergyforEveryone\"):\n",
    "                    selfEnergy += 18\n",
    "                    for i in range(4): \n",
    "                        TeamEnergy[i] += 18\n",
    "                            \n",
    "                if (skillType == \"ChargeEnergy\"):\n",
    "                    selfEnergy += 43\n",
    "                            \n",
    "                if (skillType == \"Energizing Cheer\"):\n",
    "                    which         = random.randint(0,3)\n",
    "                    TeamEnergy[which] += 51 \n",
    "                    \n",
    "                    \n",
    "        selfEnergy -=  1/600\n",
    "    \n",
    "    return {\"selfHelpTime\":selfHelp,\n",
    "            \"TeamHelpTime\":TeamHelp,\n",
    "            \"TotalSkill\"  :skillTime}"
   ]
  },
  {
   "cell_type": "markdown",
   "id": "686b5232",
   "metadata": {},
   "source": [
    "# Init data"
   ]
  },
  {
   "cell_type": "code",
   "execution_count": 445,
   "id": "37d549de",
   "metadata": {
    "scrolled": true
   },
   "outputs": [],
   "source": [
    "### 有奶媽的情況\n",
    "skillTypes = (\"EnergyforEveryone\",\"ChargeEnergy\",\"Energizing Cheer\")\n",
    "inputData = {\n",
    "            \"selfSpeed\" : 2400,\n",
    "            \"teamSpeed\" : 1800,\n",
    "            \"initEnergy\": 100,\n",
    "            \"totalTime\" : 20*3600,\n",
    "            \"skillType\" : skillTypes[0],\n",
    "            \"HelpProb\"  : 0.05\n",
    "        }\n",
    "\n",
    "\n",
    "### 沒有奶媽的情況\n",
    "noHelp   = {\n",
    "            \"selfSpeed\" : 1800,\n",
    "            \"teamSpeed\" : 1800,\n",
    "            \"initEnergy\": 100,\n",
    "            \"totalTime\" : 20*3600,\n",
    "            \"skillType\" : None,\n",
    "            \"HelpProb\"  : 0\n",
    "        }\n"
   ]
  },
  {
   "cell_type": "code",
   "execution_count": 434,
   "id": "dab576fc",
   "metadata": {},
   "outputs": [
    {
     "name": "stdout",
     "output_type": "stream",
     "text": [
      "EnergyforEveryone\n",
      "\tselfHelpTime : 35\n",
      "\tTeamHelpTime : [71, 71, 71, 71]\n",
      "\tTotalSkill : 1\n",
      "\n",
      "\tTotal Help : 603  With no support : 630(-4.28571%⬆️)\n",
      "\n"
     ]
    }
   ],
   "source": [
    "eachSkill = skillTypes[0]\n",
    "inputData[\"skillType\"] = eachSkill\n",
    "print(eachSkill)\n",
    "output = testHelp(inputData)\n",
    "nohelp = testHelp(noHelp)\n",
    "TotalHelp   =  output['selfHelpTime'] + sum(output['TeamHelpTime'] )*2  ## 如果團隊 是樹果型，幫忙一次會給兩顆 所以 X2\n",
    "Totalnohelp = (nohelp['selfHelpTime'] + sum(nohelp['TeamHelpTime']))*2  ##    團隊全是樹果型，所以全部 X2\n",
    "for i in output:\n",
    "    print(f\"\\t{i} : {output[i]}\")\n",
    "up = (TotalHelp-Totalnohelp)/Totalnohelp*100\n",
    "print(f\"\\n\\tTotal Help : {TotalHelp}  With no support : {Totalnohelp}({up:.5f}%⬆️)\")\n",
    "print()"
   ]
  },
  {
   "cell_type": "code",
   "execution_count": 435,
   "id": "75a001e1",
   "metadata": {},
   "outputs": [],
   "source": [
    "def monte(inputData, totaltime):  ## 重複幾次\n",
    "    TotalData = {\n",
    "        \"selfHelpTime\" : 0,\n",
    "        \"TeamHelpTime\" : [0]*4,\n",
    "        \"TotalSkill\"   : 0\n",
    "    }\n",
    "    \n",
    "    for i in range(totaltime):\n",
    "        output = testHelp(inputData)\n",
    "        \n",
    "        TotalData[\"selfHelpTime\"] += output[\"selfHelpTime\"]\n",
    "        for i in range(4):\n",
    "            TotalData[\"TeamHelpTime\"][i] += output[\"TeamHelpTime\"][i]\n",
    "        TotalData[\"TotalSkill\"] += output[\"TotalSkill\"]\n",
    "    \n",
    "    \n",
    "    ## 計算平均\n",
    "    \n",
    "    TotalData[\"selfHelpTime\"] /= totaltime\n",
    "    TotalData[\"TotalSkill\"]   /= totaltime\n",
    "    for i in range(4):\n",
    "        TotalData[\"TeamHelpTime\"][i] /= totaltime\n",
    "    \n",
    "    return TotalData\n",
    "        "
   ]
  },
  {
   "cell_type": "markdown",
   "id": "6e4dd5e3",
   "metadata": {},
   "source": [
    "# Start"
   ]
  },
  {
   "cell_type": "markdown",
   "id": "7f16b365",
   "metadata": {},
   "source": [
    "## EnergyforEveryone"
   ]
  },
  {
   "cell_type": "code",
   "execution_count": 444,
   "id": "1e208efa",
   "metadata": {
    "scrolled": false
   },
   "outputs": [
    {
     "name": "stdout",
     "output_type": "stream",
     "text": [
      "EnergyforEveryone\n",
      "\n",
      "[*] Input data:\n",
      "\tselfSpeed     : 2400\n",
      "\tteamSpeed     : 1800\n",
      "\tinitEnergy    : 100\n",
      "\ttotalTime     : 72000\n",
      "\tskillType     : EnergyforEveryone\n",
      "\tHelpProb      : 0.05\n",
      "\n",
      "[*] 無奶媽\n",
      "\tselfHelpTime  : 63\n",
      "\tTeamHelpTime  : [63, 63, 63, 63]\n",
      "\tTotalSkill    : 0\n",
      "\tWeighted Help : 630 \n",
      "\n",
      "[*] 有奶媽\n",
      "\tselfHelpTime  : 58.2\n",
      "\tTeamHelpTime  : [78.04, 78.04, 78.04, 78.04]\n",
      "\tTotalSkill    : 2.81\n",
      "\tWeighted Help : 683(8.34%⬆️)\n",
      "\n"
     ]
    }
   ],
   "source": [
    "eachSkill = skillTypes[0]\n",
    "inputData[\"skillType\"] = eachSkill\n",
    "print(eachSkill)\n",
    "print(\"\\n[*] Input data:\")\n",
    "for i in inputData:\n",
    "    print(f\"\\t{i:12}  : {inputData[i]}\")\n",
    "    \n",
    "    \n",
    "output = monte(inputData,100)\n",
    "nohelp = testHelp(noHelp)\n",
    "\n",
    "TotalHelp   =  output['selfHelpTime'] + sum(output['TeamHelpTime'])*2\n",
    "Totalnohelp = (nohelp['selfHelpTime'] + sum(nohelp['TeamHelpTime']))*2\n",
    "\n",
    "print(\"\\n[*] 無奶媽\")\n",
    "for i in output:\n",
    "    print(f\"\\t{i:12}  : {nohelp[i]}\")\n",
    "\n",
    "up = (TotalHelp-Totalnohelp)/Totalnohelp*100\n",
    "\n",
    "print(f\"\\tWeighted Help : {Totalnohelp:.0f} \")\n",
    "\n",
    "\n",
    "print(\"\\n[*] 有奶媽\")\n",
    "for i in output:\n",
    "    print(f\"\\t{i:12}  : {output[i]}\")\n",
    "print(f\"\\tWeighted Help : {TotalHelp:.0f}({up:.2f}%⬆️)\")\n",
    "\n",
    "print()"
   ]
  },
  {
   "cell_type": "markdown",
   "id": "66b1b41d",
   "metadata": {},
   "source": [
    "## ChargeEnergy"
   ]
  },
  {
   "cell_type": "code",
   "execution_count": 446,
   "id": "dff7f4d5",
   "metadata": {},
   "outputs": [
    {
     "name": "stdout",
     "output_type": "stream",
     "text": [
      "ChargeEnergy\n",
      "\n",
      "[*] Input data:\n",
      "\tselfSpeed     : 2400\n",
      "\tteamSpeed     : 1800\n",
      "\tinitEnergy    : 100\n",
      "\ttotalTime     : 72000\n",
      "\tskillType     : ChargeEnergy\n",
      "\tHelpProb      : 0.05\n",
      "\n",
      "[*] 無奶媽\n",
      "\tselfHelpTime  : 63\n",
      "\tTeamHelpTime  : [63, 63, 63, 63]\n",
      "\tTotalSkill    : 0\n",
      "\tWeighted Help : 630 \n",
      "\n",
      "[*] 有奶媽\n",
      "\tselfHelpTime  : 72.13\n",
      "\tTeamHelpTime  : [63.0, 63.0, 63.0, 63.0]\n",
      "\tTotalSkill    : 3.77\n",
      "\tWeighted Help : 648(2.90%⬆️)\n",
      "\n"
     ]
    }
   ],
   "source": [
    "eachSkill = skillTypes[1]\n",
    "inputData[\"skillType\"] = eachSkill\n",
    "print(eachSkill)\n",
    "print(\"\\n[*] Input data:\")\n",
    "for i in inputData:\n",
    "    print(f\"\\t{i:12}  : {inputData[i]}\")\n",
    "    \n",
    "    \n",
    "output = monte(inputData,100)\n",
    "nohelp = testHelp(noHelp)\n",
    "\n",
    "TotalHelp   = (output['selfHelpTime'] + sum(output['TeamHelpTime']))*2\n",
    "Totalnohelp = (nohelp['selfHelpTime'] + sum(nohelp['TeamHelpTime']))*2\n",
    "\n",
    "print(\"\\n[*] 無奶媽\")\n",
    "for i in output:\n",
    "    print(f\"\\t{i:12}  : {nohelp[i]}\")\n",
    "\n",
    "up = (TotalHelp-Totalnohelp)/Totalnohelp*100\n",
    "\n",
    "print(f\"\\tWeighted Help : {Totalnohelp:.0f} \")\n",
    "\n",
    "\n",
    "print(\"\\n[*] 有奶媽\")\n",
    "for i in output:\n",
    "    print(f\"\\t{i:12}  : {output[i]}\")\n",
    "print(f\"\\tWeighted Help : {TotalHelp:.0f}({up:.2f}%⬆️)\")\n",
    "\n",
    "print()"
   ]
  },
  {
   "cell_type": "markdown",
   "id": "1f00b7dc",
   "metadata": {},
   "source": [
    "## Energizing Cheer"
   ]
  },
  {
   "cell_type": "code",
   "execution_count": 451,
   "id": "6a07dc3f",
   "metadata": {},
   "outputs": [
    {
     "name": "stdout",
     "output_type": "stream",
     "text": [
      "Energizing Cheer\n",
      "\n",
      "[*] Input data:\n",
      "\tselfSpeed     : 2400\n",
      "\tteamSpeed     : 1800\n",
      "\tinitEnergy    : 100\n",
      "\ttotalTime     : 72000\n",
      "\tskillType     : Energizing Cheer\n",
      "\tHelpProb      : 0.05\n",
      "\n",
      "[*] 無奶媽\n",
      "\tselfHelpTime  : 63\n",
      "\tTeamHelpTime  : [63, 63, 63, 63]\n",
      "\tTotalSkill    : 0\n",
      "\tWeighted Help : 630 \n",
      "\n",
      "[*] 有奶媽\n",
      "\tselfHelpTime  : 47.0\n",
      "\tTeamHelpTime  : [71.23, 73.68, 68.82, 71.82]\n",
      "\tTotalSkill    : 2.19\n",
      "\tWeighted Help : 618(-1.89%⬆️)\n",
      "\n"
     ]
    }
   ],
   "source": [
    "eachSkill = skillTypes[2]\n",
    "inputData[\"skillType\"] = eachSkill\n",
    "print(eachSkill)\n",
    "print(\"\\n[*] Input data:\")\n",
    "for i in inputData:\n",
    "    print(f\"\\t{i:12}  : {inputData[i]}\")\n",
    "    \n",
    "    \n",
    "output = monte(inputData,100)\n",
    "nohelp = testHelp(noHelp)\n",
    "\n",
    "TotalHelp   =  output['selfHelpTime'] + sum(output['TeamHelpTime'])*2\n",
    "Totalnohelp = (nohelp['selfHelpTime'] + sum(nohelp['TeamHelpTime']))*2\n",
    "\n",
    "print(\"\\n[*] 無奶媽\")\n",
    "for i in output:\n",
    "    print(f\"\\t{i:12}  : {nohelp[i]}\")\n",
    "\n",
    "up = (TotalHelp-Totalnohelp)/Totalnohelp*100\n",
    "\n",
    "print(f\"\\tWeighted Help : {Totalnohelp:.0f} \")\n",
    "\n",
    "\n",
    "print(\"\\n[*] 有奶媽\")\n",
    "for i in output:\n",
    "    print(f\"\\t{i:12}  : {output[i]}\")\n",
    "print(f\"\\tWeighted Help : {TotalHelp:.0f}({up:.2f}%⬆️)\")\n",
    "\n",
    "print()"
   ]
  },
  {
   "cell_type": "code",
   "execution_count": null,
   "id": "ddb907db",
   "metadata": {},
   "outputs": [],
   "source": []
  },
  {
   "cell_type": "code",
   "execution_count": null,
   "id": "1f11e4a5",
   "metadata": {},
   "outputs": [],
   "source": []
  }
 ],
 "metadata": {
  "kernelspec": {
   "display_name": "Python 3 (ipykernel)",
   "language": "python",
   "name": "python3"
  },
  "language_info": {
   "codemirror_mode": {
    "name": "ipython",
    "version": 3
   },
   "file_extension": ".py",
   "mimetype": "text/x-python",
   "name": "python",
   "nbconvert_exporter": "python",
   "pygments_lexer": "ipython3",
   "version": "3.9.13"
  },
  "toc": {
   "base_numbering": 1,
   "nav_menu": {},
   "number_sections": true,
   "sideBar": true,
   "skip_h1_title": false,
   "title_cell": "Table of Contents",
   "title_sidebar": "Contents",
   "toc_cell": false,
   "toc_position": {},
   "toc_section_display": true,
   "toc_window_display": true
  }
 },
 "nbformat": 4,
 "nbformat_minor": 5
}
